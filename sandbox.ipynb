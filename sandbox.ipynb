{
 "cells": [
  {
   "cell_type": "markdown",
   "metadata": {},
   "source": [
    "#### Import required libraries\n"
   ]
  },
  {
   "cell_type": "code",
   "execution_count": 8,
   "metadata": {},
   "outputs": [],
   "source": [
    "import pandas as pd"
   ]
  },
  {
   "cell_type": "markdown",
   "metadata": {},
   "source": [
    "#### Read Products.csv and get encoder and decoder from main category"
   ]
  },
  {
   "cell_type": "code",
   "execution_count": 7,
   "metadata": {},
   "outputs": [
    {
     "data": {
      "text/plain": [
       "{0: 'Home & Garden ',\n",
       " 1: 'Baby & Kids Stuff ',\n",
       " 2: 'DIY Tools & Materials ',\n",
       " 3: 'Music, Films, Books & Games ',\n",
       " 4: 'Phones, Mobile Phones & Telecoms ',\n",
       " 5: 'Clothes, Footwear & Accessories ',\n",
       " 6: 'Other Goods ',\n",
       " 7: 'Health & Beauty ',\n",
       " 8: 'Sports, Leisure & Travel ',\n",
       " 9: 'Appliances ',\n",
       " 10: 'Computers & Software ',\n",
       " 11: 'Office Furniture & Equipment ',\n",
       " 12: 'Video Games & Consoles '}"
      ]
     },
     "execution_count": 7,
     "metadata": {},
     "output_type": "execute_result"
    }
   ],
   "source": [
    "products_df = pd.read_csv('Products.csv', lineterminator='\\n')\n",
    "products_df['price'] = products_df['price'].replace({'£':'',',':''}, regex=True)\n",
    "\n",
    "def split_category(category: str) -> str:\n",
    "    return category.split('/')[0]\n",
    "\n",
    "products_df['main_category'] = products_df['category'].apply(split_category)\n",
    "category_list = list(products_df['main_category'].unique())\n",
    "\n",
    "encoder = {category: index for index, category in enumerate(category_list)}\n",
    "decoder = {index: category for index, category in enumerate(category_list)}\n",
    "\n",
    "decoder"
   ]
  },
  {
   "cell_type": "markdown",
   "metadata": {},
   "source": [
    "#### Merge Images and Products dataframes and assign label according to main category"
   ]
  },
  {
   "cell_type": "code",
   "execution_count": null,
   "metadata": {},
   "outputs": [],
   "source": [
    "images_df = pd.read_csv('Images.csv', lineterminator='\\n')\n",
    "products_df = products_df.rename(columns={'id': 'product_id'})\n",
    "full_dataframe = pd.merge(products_df, images_df, on='product_id')\n",
    "\n",
    "full_dataframe['labels'] = full_dataframe['main_category'].map(encoder)"
   ]
  },
  {
   "cell_type": "markdown",
   "metadata": {},
   "source": [
    "#### Save new merged dataframes with encoder"
   ]
  },
  {
   "cell_type": "code",
   "execution_count": 13,
   "metadata": {},
   "outputs": [],
   "source": [
    "full_dataframe.to_csv(\"training_data.csv\", index=False)"
   ]
  }
 ],
 "metadata": {
  "kernelspec": {
   "display_name": "Python 3",
   "language": "python",
   "name": "python3"
  },
  "language_info": {
   "codemirror_mode": {
    "name": "ipython",
    "version": 3
   },
   "file_extension": ".py",
   "mimetype": "text/x-python",
   "name": "python",
   "nbconvert_exporter": "python",
   "pygments_lexer": "ipython3",
   "version": "3.11.5"
  }
 },
 "nbformat": 4,
 "nbformat_minor": 2
}
